{
 "cells": [
  {
   "cell_type": "markdown",
   "id": "1ddbe078",
   "metadata": {},
   "source": [
    "# Clean Data"
   ]
  },
  {
   "cell_type": "code",
   "execution_count": null,
   "id": "fd1217a3",
   "metadata": {},
   "outputs": [],
   "source": [
    "import numpy as np\n",
    "import pandas as pd\n",
    "import pyarrow.dataset as ds\n",
    "import glob"
   ]
  },
  {
   "cell_type": "code",
   "execution_count": 31,
   "id": "92c34012",
   "metadata": {},
   "outputs": [],
   "source": [
    "works_updated = '../Articles/OA-WorksUpdated/works_updated.parquet'\n",
    "files_wa = glob.glob(works_updated + '/*.parquet')\n",
    "files_wa = files_wa[:2]\n",
    "dataframes_wa = []\n",
    "for file in files_wa:\n",
    "    #print(f\"Reading file: {file}\")\n",
    "    df = pd.read_parquet(file)\n",
    "    dataframes_wa.append(df)\n",
    "meta = pd.concat(dataframes_wa, ignore_index = True)"
   ]
  },
  {
   "cell_type": "code",
   "execution_count": 32,
   "id": "c3b9970b",
   "metadata": {},
   "outputs": [
    {
     "data": {
      "text/plain": [
       "Index(['id', 'doi', 'display_name', 'title', 'publication_year',\n",
       "       'publication_date', 'ids', 'host_venue', 'primary_location',\n",
       "       'best_oa_location', 'type', 'open_access', 'authorships',\n",
       "       'cited_by_count', 'biblio', 'is_retracted', 'is_paratext', 'concepts',\n",
       "       'mesh', 'alternate_host_venues', 'locations', 'referenced_works',\n",
       "       'related_works', 'counts_by_year', 'cited_by_api_url', 'updated_date',\n",
       "       'created_date', 'abstract_inverted_index', 'pmid'],\n",
       "      dtype='object')"
      ]
     },
     "execution_count": 32,
     "metadata": {},
     "output_type": "execute_result"
    }
   ],
   "source": [
    "meta.columns"
   ]
  },
  {
   "cell_type": "code",
   "execution_count": 33,
   "id": "e96c05d5",
   "metadata": {},
   "outputs": [],
   "source": [
    "def has_pmid(ids_list):\n",
    "    return any(key == 'pmid' for key, _ in ids_list)\n",
    "\n",
    "# Get the 5 most important concepts from each paper\n",
    "def extract_display_names(concepts_array, limit = 5):\n",
    "    return [concept['display_name'] for concept in concepts_array]\n",
    "\n",
    "# Save the first author for all papers\n",
    "def extract_author_names(author_array):\n",
    "    author_names = [authorship['author']['display_name'] for authorship in author_array if authorship['author_position'] in ['first']]\n",
    "    return author_names\n",
    "\n",
    "# Extract the PMID from the url\n",
    "def extract_pmid_number(ids_list):\n",
    "    pmid_url = next((url for key, url in ids_list if key =='pmid'), None)\n",
    "    if pmid_url and 'pubmed.ncbi.nlm.nih.gov/' in pmid_url:\n",
    "        return pmid_url.split('/')[-1]\n",
    "    return None\n",
    "\n",
    "meta = meta[meta['ids'].apply(has_pmid)]\n",
    "meta = meta[['title', 'abstract_inverted_index', 'publication_date', 'ids', 'concepts', 'authorships', 'cited_by_count', 'related_works', 'cited_by_api_url']]\n",
    "meta['ids'] = meta['ids'].apply(extract_pmid_number)\n",
    "meta['concepts'] = meta['concepts'].apply(extract_display_names)\n",
    "meta['authorships'] = meta['authorships'].apply(extract_author_names)"
   ]
  },
  {
   "cell_type": "code",
   "execution_count": 34,
   "id": "fd5c6073",
   "metadata": {},
   "outputs": [
    {
     "data": {
      "text/html": [
       "<div>\n",
       "<style scoped>\n",
       "    .dataframe tbody tr th:only-of-type {\n",
       "        vertical-align: middle;\n",
       "    }\n",
       "\n",
       "    .dataframe tbody tr th {\n",
       "        vertical-align: top;\n",
       "    }\n",
       "\n",
       "    .dataframe thead th {\n",
       "        text-align: right;\n",
       "    }\n",
       "</style>\n",
       "<table border=\"1\" class=\"dataframe\">\n",
       "  <thead>\n",
       "    <tr style=\"text-align: right;\">\n",
       "      <th></th>\n",
       "      <th>title</th>\n",
       "      <th>abstract</th>\n",
       "      <th>publication_date</th>\n",
       "      <th>pmid</th>\n",
       "      <th>concepts</th>\n",
       "      <th>author</th>\n",
       "      <th>num_citations</th>\n",
       "      <th>related_works</th>\n",
       "      <th>cited_by_api_url</th>\n",
       "    </tr>\n",
       "  </thead>\n",
       "  <tbody>\n",
       "    <tr>\n",
       "      <th>0</th>\n",
       "      <td>Treatment of Alcohol Withdrawal Syndrome</td>\n",
       "      <td>Treatment of the alcohol withdrawal syndrome i...</td>\n",
       "      <td>1994-01-01</td>\n",
       "      <td>7912939</td>\n",
       "      <td>[Alcohol withdrawal syndrome, Medicine, Rehabi...</td>\n",
       "      <td>[Vural Özdemir]</td>\n",
       "      <td>18</td>\n",
       "      <td>[https://openalex.org/W4388336948, https://ope...</td>\n",
       "      <td>https://api.openalex.org/works?filter=cites:W2...</td>\n",
       "    </tr>\n",
       "    <tr>\n",
       "      <th>4</th>\n",
       "      <td>Tactile Cutaneous Representation in Cerebellar...</td>\n",
       "      <td>Recent studies of the albino rat revealed exte...</td>\n",
       "      <td>1985-01-01</td>\n",
       "      <td>3843070</td>\n",
       "      <td>[Opossum, Anatomy, Somatosensory system, Forel...</td>\n",
       "      <td>[Wally Welker]</td>\n",
       "      <td>18</td>\n",
       "      <td>[https://openalex.org/W102752321, https://open...</td>\n",
       "      <td>https://api.openalex.org/works?filter=cites:W2...</td>\n",
       "    </tr>\n",
       "    <tr>\n",
       "      <th>7</th>\n",
       "      <td>Lipocalin-2 is Associated With a Good Prognosi...</td>\n",
       "      <td></td>\n",
       "      <td>2013-03-29</td>\n",
       "      <td>23539193</td>\n",
       "      <td>[Lipocalin, Pancreatic cancer, Epithelial–mese...</td>\n",
       "      <td>[Bin Xu]</td>\n",
       "      <td>18</td>\n",
       "      <td>[https://openalex.org/W2784579557, https://ope...</td>\n",
       "      <td>https://api.openalex.org/works?filter=cites:W2...</td>\n",
       "    </tr>\n",
       "    <tr>\n",
       "      <th>8</th>\n",
       "      <td>Pulmonary embolism in an infant</td>\n",
       "      <td>A case of fatal pulmonary embolism in a 13-mon...</td>\n",
       "      <td>1962-11-01</td>\n",
       "      <td>13951639</td>\n",
       "      <td>[Medicine, Thrombophlebitis, Pulmonary embolis...</td>\n",
       "      <td>[Seth L. Haber]</td>\n",
       "      <td>18</td>\n",
       "      <td>[https://openalex.org/W2079604409, https://ope...</td>\n",
       "      <td>https://api.openalex.org/works?filter=cites:W2...</td>\n",
       "    </tr>\n",
       "    <tr>\n",
       "      <th>12</th>\n",
       "      <td>Nutritional and other types of oedema, albumin...</td>\n",
       "      <td>The various types of oedema in man are conside...</td>\n",
       "      <td>2015-04-06</td>\n",
       "      <td>25844980</td>\n",
       "      <td>[Kwashiorkor, Medicine, Starling, Glycocalyx, ...</td>\n",
       "      <td>[Michael Golden]</td>\n",
       "      <td>18</td>\n",
       "      <td>[https://openalex.org/W2994001373, https://ope...</td>\n",
       "      <td>https://api.openalex.org/works?filter=cites:W2...</td>\n",
       "    </tr>\n",
       "  </tbody>\n",
       "</table>\n",
       "</div>"
      ],
      "text/plain": [
       "                                                title  \\\n",
       "0            Treatment of Alcohol Withdrawal Syndrome   \n",
       "4   Tactile Cutaneous Representation in Cerebellar...   \n",
       "7   Lipocalin-2 is Associated With a Good Prognosi...   \n",
       "8                     Pulmonary embolism in an infant   \n",
       "12  Nutritional and other types of oedema, albumin...   \n",
       "\n",
       "                                             abstract publication_date  \\\n",
       "0   Treatment of the alcohol withdrawal syndrome i...       1994-01-01   \n",
       "4   Recent studies of the albino rat revealed exte...       1985-01-01   \n",
       "7                                                           2013-03-29   \n",
       "8   A case of fatal pulmonary embolism in a 13-mon...       1962-11-01   \n",
       "12  The various types of oedema in man are conside...       2015-04-06   \n",
       "\n",
       "        pmid                                           concepts  \\\n",
       "0    7912939  [Alcohol withdrawal syndrome, Medicine, Rehabi...   \n",
       "4    3843070  [Opossum, Anatomy, Somatosensory system, Forel...   \n",
       "7   23539193  [Lipocalin, Pancreatic cancer, Epithelial–mese...   \n",
       "8   13951639  [Medicine, Thrombophlebitis, Pulmonary embolis...   \n",
       "12  25844980  [Kwashiorkor, Medicine, Starling, Glycocalyx, ...   \n",
       "\n",
       "              author  num_citations  \\\n",
       "0    [Vural Özdemir]             18   \n",
       "4     [Wally Welker]             18   \n",
       "7           [Bin Xu]             18   \n",
       "8    [Seth L. Haber]             18   \n",
       "12  [Michael Golden]             18   \n",
       "\n",
       "                                        related_works  \\\n",
       "0   [https://openalex.org/W4388336948, https://ope...   \n",
       "4   [https://openalex.org/W102752321, https://open...   \n",
       "7   [https://openalex.org/W2784579557, https://ope...   \n",
       "8   [https://openalex.org/W2079604409, https://ope...   \n",
       "12  [https://openalex.org/W2994001373, https://ope...   \n",
       "\n",
       "                                     cited_by_api_url  \n",
       "0   https://api.openalex.org/works?filter=cites:W2...  \n",
       "4   https://api.openalex.org/works?filter=cites:W2...  \n",
       "7   https://api.openalex.org/works?filter=cites:W2...  \n",
       "8   https://api.openalex.org/works?filter=cites:W2...  \n",
       "12  https://api.openalex.org/works?filter=cites:W2...  "
      ]
     },
     "execution_count": 34,
     "metadata": {},
     "output_type": "execute_result"
    }
   ],
   "source": [
    "meta = meta.rename(columns={\n",
    "    \"abstract_inverted_index\": \"abstract\",\n",
    "    \"ids\": 'pmid',\n",
    "    \"authorships\": \"author\",\n",
    "    \"cited_by_count\": \"num_citations\"\n",
    "})\n",
    "meta.head(5)"
   ]
  },
  {
   "cell_type": "code",
   "execution_count": 35,
   "id": "3ba3b191",
   "metadata": {},
   "outputs": [
    {
     "data": {
      "text/plain": [
       "185275"
      ]
     },
     "execution_count": 35,
     "metadata": {},
     "output_type": "execute_result"
    }
   ],
   "source": [
    "len(meta)"
   ]
  },
  {
   "cell_type": "code",
   "execution_count": 36,
   "id": "07dc6409",
   "metadata": {},
   "outputs": [],
   "source": [
    "meta.sort_values(by='num_citations', ascending = False, inplace = True)"
   ]
  },
  {
   "cell_type": "code",
   "execution_count": 37,
   "id": "aacffcf6",
   "metadata": {},
   "outputs": [
    {
     "data": {
      "text/plain": [
       "13362"
      ]
     },
     "execution_count": 37,
     "metadata": {},
     "output_type": "execute_result"
    }
   ],
   "source": [
    "len(meta[meta['num_citations'] == 18])"
   ]
  },
  {
   "cell_type": "code",
   "execution_count": 10,
   "id": "99e99d55",
   "metadata": {},
   "outputs": [],
   "source": [
    "meta.to_parquet('compressed_fulldata.parquet', engine='pyarrow')"
   ]
  },
  {
   "cell_type": "code",
   "execution_count": 38,
   "id": "bc614f6c",
   "metadata": {},
   "outputs": [],
   "source": [
    "meta['author'] = meta['author'].apply(lambda x: x[0] if x else None)\n"
   ]
  },
  {
   "cell_type": "code",
   "execution_count": 39,
   "id": "d0109d10",
   "metadata": {},
   "outputs": [
    {
     "data": {
      "text/plain": [
       "'Vural Özdemir'"
      ]
     },
     "execution_count": 39,
     "metadata": {},
     "output_type": "execute_result"
    }
   ],
   "source": [
    "meta.iloc[0]['author']"
   ]
  },
  {
   "cell_type": "code",
   "execution_count": 40,
   "id": "8905b32a",
   "metadata": {},
   "outputs": [],
   "source": [
    "author_counts = meta.groupby('author').size().sort_values(ascending=False)\n",
    "top_authors = author_counts.head(10)"
   ]
  },
  {
   "cell_type": "code",
   "execution_count": 41,
   "id": "5a838b9d",
   "metadata": {},
   "outputs": [
    {
     "name": "stdout",
     "output_type": "stream",
     "text": [
      "author\n",
      "Wei Li                106\n",
      "A.M. Api               84\n",
      "Yong Li                46\n",
      "Rui Zhang              38\n",
      "Wei Chen               33\n",
      "Steven A. Kaplan       26\n",
      "Xi Chen                25\n",
      "Wei Zhang              22\n",
      "Bin Zhang              21\n",
      "Michiyuki Kawakami     20\n",
      "dtype: int64\n"
     ]
    }
   ],
   "source": [
    "print(top_authors)"
   ]
  },
  {
   "cell_type": "code",
   "execution_count": 45,
   "id": "b8c55953",
   "metadata": {},
   "outputs": [
    {
     "data": {
      "text/html": [
       "<div>\n",
       "<style scoped>\n",
       "    .dataframe tbody tr th:only-of-type {\n",
       "        vertical-align: middle;\n",
       "    }\n",
       "\n",
       "    .dataframe tbody tr th {\n",
       "        vertical-align: top;\n",
       "    }\n",
       "\n",
       "    .dataframe thead th {\n",
       "        text-align: right;\n",
       "    }\n",
       "</style>\n",
       "<table border=\"1\" class=\"dataframe\">\n",
       "  <thead>\n",
       "    <tr style=\"text-align: right;\">\n",
       "      <th></th>\n",
       "      <th>title</th>\n",
       "      <th>abstract</th>\n",
       "      <th>publication_date</th>\n",
       "      <th>pmid</th>\n",
       "      <th>concepts</th>\n",
       "      <th>author</th>\n",
       "      <th>num_citations</th>\n",
       "      <th>related_works</th>\n",
       "      <th>cited_by_api_url</th>\n",
       "    </tr>\n",
       "  </thead>\n",
       "  <tbody>\n",
       "    <tr>\n",
       "      <th>208622</th>\n",
       "      <td>Enhancing Hit Discovery in Virtual Screening t...</td>\n",
       "      <td>In the hit identification stage of drug discov...</td>\n",
       "      <td>2023-05-11</td>\n",
       "      <td>37167486</td>\n",
       "      <td>[Free energy perturbation, Virtual screening, ...</td>\n",
       "      <td>Wei Chen</td>\n",
       "      <td>15</td>\n",
       "      <td>[https://openalex.org/W4380716331, https://ope...</td>\n",
       "      <td>https://api.openalex.org/works?filter=cites:W4...</td>\n",
       "    </tr>\n",
       "    <tr>\n",
       "      <th>353286</th>\n",
       "      <td>Time diffraction-free transverse orbital angul...</td>\n",
       "      <td>The discovery of optical transverse orbital an...</td>\n",
       "      <td>2022-07-11</td>\n",
       "      <td>35821372</td>\n",
       "      <td>[Physics, Angular momentum, Diffraction, Optic...</td>\n",
       "      <td>Wei Chen</td>\n",
       "      <td>13</td>\n",
       "      <td>[https://openalex.org/W2102517274, https://ope...</td>\n",
       "      <td>https://api.openalex.org/works?filter=cites:W4...</td>\n",
       "    </tr>\n",
       "    <tr>\n",
       "      <th>1108451</th>\n",
       "      <td>Macrodactyly of the foot resulting from planta...</td>\n",
       "      <td>The role of the plantar nerve in the pathogene...</td>\n",
       "      <td>2021-08-01</td>\n",
       "      <td>33384233</td>\n",
       "      <td>[Medicine, Epineurium, Endoneurium, Plantar fa...</td>\n",
       "      <td>Wei Chen</td>\n",
       "      <td>0</td>\n",
       "      <td>[https://openalex.org/W2087484234, https://ope...</td>\n",
       "      <td>https://api.openalex.org/works?filter=cites:W3...</td>\n",
       "    </tr>\n",
       "    <tr>\n",
       "      <th>349288</th>\n",
       "      <td>The interactions between chiral analytes and c...</td>\n",
       "      <td>The goal of the present study was to disclose ...</td>\n",
       "      <td>2021-08-01</td>\n",
       "      <td>34090134</td>\n",
       "      <td>[Chemistry, Analyte, Hydrogen bond, Chitosan, ...</td>\n",
       "      <td>Wei Chen</td>\n",
       "      <td>13</td>\n",
       "      <td>[https://openalex.org/W2149581068, https://ope...</td>\n",
       "      <td>https://api.openalex.org/works?filter=cites:W3...</td>\n",
       "    </tr>\n",
       "    <tr>\n",
       "      <th>204618</th>\n",
       "      <td>CircRNA Circ-ITCH Inhibits the Proliferation a...</td>\n",
       "      <td>Circ-ITCH, a novel circRNA, was generated from...</td>\n",
       "      <td>2021-01-01</td>\n",
       "      <td>33571015</td>\n",
       "      <td>[Glioma, Downregulation and upregulation, Canc...</td>\n",
       "      <td>Wei Chen</td>\n",
       "      <td>15</td>\n",
       "      <td>[https://openalex.org/W2054919679, https://ope...</td>\n",
       "      <td>https://api.openalex.org/works?filter=cites:W3...</td>\n",
       "    </tr>\n",
       "  </tbody>\n",
       "</table>\n",
       "</div>"
      ],
      "text/plain": [
       "                                                     title  \\\n",
       "208622   Enhancing Hit Discovery in Virtual Screening t...   \n",
       "353286   Time diffraction-free transverse orbital angul...   \n",
       "1108451  Macrodactyly of the foot resulting from planta...   \n",
       "349288   The interactions between chiral analytes and c...   \n",
       "204618   CircRNA Circ-ITCH Inhibits the Proliferation a...   \n",
       "\n",
       "                                                  abstract publication_date  \\\n",
       "208622   In the hit identification stage of drug discov...       2023-05-11   \n",
       "353286   The discovery of optical transverse orbital an...       2022-07-11   \n",
       "1108451  The role of the plantar nerve in the pathogene...       2021-08-01   \n",
       "349288   The goal of the present study was to disclose ...       2021-08-01   \n",
       "204618   Circ-ITCH, a novel circRNA, was generated from...       2021-01-01   \n",
       "\n",
       "             pmid                                           concepts  \\\n",
       "208622   37167486  [Free energy perturbation, Virtual screening, ...   \n",
       "353286   35821372  [Physics, Angular momentum, Diffraction, Optic...   \n",
       "1108451  33384233  [Medicine, Epineurium, Endoneurium, Plantar fa...   \n",
       "349288   34090134  [Chemistry, Analyte, Hydrogen bond, Chitosan, ...   \n",
       "204618   33571015  [Glioma, Downregulation and upregulation, Canc...   \n",
       "\n",
       "           author  num_citations  \\\n",
       "208622   Wei Chen             15   \n",
       "353286   Wei Chen             13   \n",
       "1108451  Wei Chen              0   \n",
       "349288   Wei Chen             13   \n",
       "204618   Wei Chen             15   \n",
       "\n",
       "                                             related_works  \\\n",
       "208622   [https://openalex.org/W4380716331, https://ope...   \n",
       "353286   [https://openalex.org/W2102517274, https://ope...   \n",
       "1108451  [https://openalex.org/W2087484234, https://ope...   \n",
       "349288   [https://openalex.org/W2149581068, https://ope...   \n",
       "204618   [https://openalex.org/W2054919679, https://ope...   \n",
       "\n",
       "                                          cited_by_api_url  \n",
       "208622   https://api.openalex.org/works?filter=cites:W4...  \n",
       "353286   https://api.openalex.org/works?filter=cites:W4...  \n",
       "1108451  https://api.openalex.org/works?filter=cites:W3...  \n",
       "349288   https://api.openalex.org/works?filter=cites:W3...  \n",
       "204618   https://api.openalex.org/works?filter=cites:W3...  "
      ]
     },
     "execution_count": 45,
     "metadata": {},
     "output_type": "execute_result"
    }
   ],
   "source": [
    "filter_df = meta[meta['author'] =='Wei Chen']\n",
    "sorted_df = filter_df.sort_values(by='publication_date', ascending = False)\n",
    "recent_papers = sorted_df.head(5)\n",
    "recent_papers"
   ]
  },
  {
   "cell_type": "code",
   "execution_count": null,
   "id": "5ac95080",
   "metadata": {},
   "outputs": [],
   "source": []
  }
 ],
 "metadata": {
  "kernelspec": {
   "display_name": "Python 3 (ipykernel)",
   "language": "python",
   "name": "python3"
  },
  "language_info": {
   "codemirror_mode": {
    "name": "ipython",
    "version": 3
   },
   "file_extension": ".py",
   "mimetype": "text/x-python",
   "name": "python",
   "nbconvert_exporter": "python",
   "pygments_lexer": "ipython3",
   "version": "3.11.5"
  }
 },
 "nbformat": 4,
 "nbformat_minor": 5
}
